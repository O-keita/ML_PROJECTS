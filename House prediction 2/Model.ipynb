{
 "cells": [
  {
   "cell_type": "code",
   "execution_count": 1,
   "id": "7ee5f6fe",
   "metadata": {},
   "outputs": [
    {
     "data": {
      "text/html": [
       "<div>\n",
       "<style scoped>\n",
       "    .dataframe tbody tr th:only-of-type {\n",
       "        vertical-align: middle;\n",
       "    }\n",
       "\n",
       "    .dataframe tbody tr th {\n",
       "        vertical-align: top;\n",
       "    }\n",
       "\n",
       "    .dataframe thead th {\n",
       "        text-align: right;\n",
       "    }\n",
       "</style>\n",
       "<table border=\"1\" class=\"dataframe\">\n",
       "  <thead>\n",
       "    <tr style=\"text-align: right;\">\n",
       "      <th></th>\n",
       "      <th>house_id</th>\n",
       "      <th>city</th>\n",
       "      <th>sale_price</th>\n",
       "      <th>sale_date</th>\n",
       "      <th>months_listed</th>\n",
       "      <th>bedrooms</th>\n",
       "      <th>house_type</th>\n",
       "      <th>area</th>\n",
       "    </tr>\n",
       "  </thead>\n",
       "  <tbody>\n",
       "    <tr>\n",
       "      <th>0</th>\n",
       "      <td>1217792</td>\n",
       "      <td>Silvertown</td>\n",
       "      <td>55943</td>\n",
       "      <td>2021-09-12</td>\n",
       "      <td>5.4</td>\n",
       "      <td>2</td>\n",
       "      <td>Semi-detached</td>\n",
       "      <td>107.8 sq.m.</td>\n",
       "    </tr>\n",
       "    <tr>\n",
       "      <th>1</th>\n",
       "      <td>1900913</td>\n",
       "      <td>Silvertown</td>\n",
       "      <td>384677</td>\n",
       "      <td>2021-01-17</td>\n",
       "      <td>6.3</td>\n",
       "      <td>5</td>\n",
       "      <td>Detached</td>\n",
       "      <td>498.8 sq.m.</td>\n",
       "    </tr>\n",
       "    <tr>\n",
       "      <th>2</th>\n",
       "      <td>1174927</td>\n",
       "      <td>Riverford</td>\n",
       "      <td>281707</td>\n",
       "      <td>2021-11-10</td>\n",
       "      <td>6.9</td>\n",
       "      <td>6</td>\n",
       "      <td>Detached</td>\n",
       "      <td>542.5 sq.m.</td>\n",
       "    </tr>\n",
       "    <tr>\n",
       "      <th>3</th>\n",
       "      <td>1773666</td>\n",
       "      <td>Silvertown</td>\n",
       "      <td>373251</td>\n",
       "      <td>2020-04-13</td>\n",
       "      <td>6.1</td>\n",
       "      <td>6</td>\n",
       "      <td>Det.</td>\n",
       "      <td>528.4 sq.m.</td>\n",
       "    </tr>\n",
       "    <tr>\n",
       "      <th>4</th>\n",
       "      <td>1258487</td>\n",
       "      <td>Silvertown</td>\n",
       "      <td>328885</td>\n",
       "      <td>2020-09-24</td>\n",
       "      <td>8.7</td>\n",
       "      <td>5</td>\n",
       "      <td>Detached</td>\n",
       "      <td>477.1 sq.m.</td>\n",
       "    </tr>\n",
       "  </tbody>\n",
       "</table>\n",
       "</div>"
      ],
      "text/plain": [
       "   house_id        city  sale_price   sale_date  months_listed  bedrooms  \\\n",
       "0   1217792  Silvertown       55943  2021-09-12            5.4         2   \n",
       "1   1900913  Silvertown      384677  2021-01-17            6.3         5   \n",
       "2   1174927   Riverford      281707  2021-11-10            6.9         6   \n",
       "3   1773666  Silvertown      373251  2020-04-13            6.1         6   \n",
       "4   1258487  Silvertown      328885  2020-09-24            8.7         5   \n",
       "\n",
       "      house_type         area  \n",
       "0  Semi-detached  107.8 sq.m.  \n",
       "1       Detached  498.8 sq.m.  \n",
       "2       Detached  542.5 sq.m.  \n",
       "3           Det.  528.4 sq.m.  \n",
       "4       Detached  477.1 sq.m.  "
      ]
     },
     "execution_count": 1,
     "metadata": {},
     "output_type": "execute_result"
    }
   ],
   "source": [
    "import pandas as pd\n",
    "\n",
    "data = pd.read_csv('house_sales.csv')\n",
    "\n",
    "#data Has 1500 rows, 8 columns\n",
    "data.head()"
   ]
  },
  {
   "cell_type": "code",
   "execution_count": 2,
   "id": "78a9a8a5",
   "metadata": {},
   "outputs": [],
   "source": [
    "#Cleaning Each Column of  The Data\n",
    "\n",
    "\n",
    "#Checking Out for Missing Cities\n",
    "\n",
    "null_cities = data['city'].isnull().sum() #0\n",
    "\n",
    "unique_cities = data['city'].unique() #['Silvertown', 'Riverford', 'Teasdale', 'Poppleton', '--'],\n",
    "                                \n",
    "missing_city = data['city'].str.contains(\"--\").sum() #73\n",
    "\n",
    "\n",
    "#now lets replace 73 cities with -- as Unknow\n",
    "\n",
    "data['city'] = data['city'].replace('--', 'Unknown')\n",
    "\n",
    "\n",
    "#checking Out for Missing Sales Price\n",
    "missing_price = data['sale_price'].isnull().sum() #0\n",
    "\n",
    "\n",
    "#checking Out for Missing Dates\n",
    "missing_dates = data['sale_date'].isnull().sum() #0\n",
    "\n",
    "#Checking Out Missing Months Listed\n",
    "missing_months_listed = data['months_listed'].isnull().sum() #31\n",
    "\n",
    "\n",
    "\n",
    "#Filling The Missing Months Listed\n",
    "mean_month_listed = round(data['months_listed'].mean(), 1)\n",
    "data['months_listed'].fillna(mean_month_listed, inplace=True)\n",
    "\n",
    "\n",
    "#Checking Out For Missing Bed Rooms\n",
    "missing_bedrooms = data['bedrooms'].isnull().sum() #0\n",
    "\n",
    "\n",
    "\n",
    "#Checking Out For Missing House Type\n",
    "#Checking House Type Category\n",
    "\n",
    "missing_house_type = data['house_type'].isnull().sum() #0\n",
    "data['house_type'].value_counts()\n",
    "# Detached         1046\n",
    "# Semi-detached     231\n",
    "# Terraced          123\n",
    "# Det.               78\n",
    "# Semi               14\n",
    "# Terr.               8\n",
    "\n",
    "\n",
    "house_type_mapping = {\n",
    "    'Det.': 'Detached',\n",
    "    'Semi': 'Semi-detached',\n",
    "    'Terr.': 'Terraced'\n",
    "}\n",
    "\n",
    "\n",
    "\n",
    "\n",
    "data['house_type'] = data['house_type'].replace(house_type_mapping)\n",
    "data['house_type'].value_counts()\n",
    "# Detached         1124\n",
    "# Semi-detached     245\n",
    "# Terraced          131\n",
    "\n",
    "\n",
    "missing_area = data['area'].isnull().sum() #0\n",
    "# current format of area  107.8 sq.m.\n",
    "\n",
    "\n",
    "data['area'] = data['area'].astype(str).str.replace(\"sq.m.\", \"\").astype(float)\n",
    "\n",
    "#Now we convert our categorical data columns to categorical dtypes\n",
    "\n",
    "data[['city', 'house_type']] = data[['city', 'house_type']].astype('category')\n",
    "\n",
    "\n",
    "data['sale_date'] = pd.to_datetime(data['sale_date'])\n"
   ]
  },
  {
   "cell_type": "markdown",
   "id": "b1e21895",
   "metadata": {},
   "source": [
    "### `We Check For Outliers`"
   ]
  },
  {
   "cell_type": "code",
   "execution_count": 3,
   "id": "190ee6f8",
   "metadata": {
    "scrolled": false
   },
   "outputs": [
    {
     "data": {
      "image/png": "[encoded data removed]",
      "text/plain": [
       "<Figure size 640x480 with 1 Axes>"
      ]
     },
     "metadata": {},
     "output_type": "display_data"
    }
   ],
   "source": [
    "import matplotlib.pyplot as plt\n",
    "import seaborn as sns\n",
    "\n",
    "sns.boxplot(x='bedrooms', y='sale_price', data=data)\n",
    "plt.title('Boxplot of House Prices by Number of Bedrooms')\n",
    "plt.xlabel('Number of Bedrooms')\n",
    "plt.ylabel('Price')\n",
    "plt.show()\n",
    "\n",
    "\n",
    "clean_data = data.copy()"
   ]
  },
  {
   "cell_type": "markdown",
   "id": "2109f7d5",
   "metadata": {},
   "source": [
    "#### `The Data Has Very little ouliers  at 2 bedrooms`"
   ]
  },
  {
   "cell_type": "markdown",
   "id": "5a5c2417",
   "metadata": {},
   "source": [
    "### Let's Preprocess Our Data"
   ]
  },
  {
   "cell_type": "code",
   "execution_count": 64,
   "id": "03ab31db",
   "metadata": {},
   "outputs": [],
   "source": [
    "from sklearn.preprocessing import OneHotEncoder, StandardScaler\n",
    "from sklearn.compose import ColumnTransformer\n",
    "from sklearn.model_selection import train_test_split\n",
    "from sklearn.impute import SimpleImputer\n",
    "from sklearn.pipeline import Pipeline\n",
    "\n",
    "#Selecting Our Features and Target\n",
    "\n",
    "X = clean_data.drop(columns=['house_id', 'sale_price'])\n",
    "y = clean_data['sale_price']\n",
    "\n",
    "\n",
    "\n",
    "\n",
    "\n",
    "\n",
    "\n",
    "numeric_features = ['months_listed', 'bedrooms', 'area']\n",
    "categorical_features = ['city', 'house_type']\n",
    "\n",
    "\n",
    "preprocessor = ColumnTransformer(\n",
    "    transformers=[\n",
    "        \n",
    "        ('numeric', Pipeline(steps=[\n",
    "            ('imputer',SimpleImputer(strategy='mean')),\n",
    "            \n",
    "            ('scaler', StandardScaler())\n",
    "             ]), \n",
    "        \n",
    "        numeric_features),\n",
    "        \n",
    "        \n",
    "        ('category', Pipeline(steps=[\n",
    "            ('imputer', SimpleImputer(strategy='most_frequent')),\n",
    "            ('onehot', OneHotEncoder(handle_unknown='ignore'))\n",
    "           \n",
    "        ]), categorical_features)\n",
    "    ]\n",
    "\n",
    ")\n",
    "\n",
    "\n",
    "\n",
    "X_train, X_test, y_train, y_test = train_test_split(X, y, test_size=0.2, random_state=42)\n",
    "\n"
   ]
  },
  {
   "cell_type": "markdown",
   "id": "7c3260a2",
   "metadata": {},
   "source": [
    "### `Model Selection`"
   ]
  },
  {
   "cell_type": "code",
   "execution_count": 65,
   "id": "7fb8ff87",
   "metadata": {
    "scrolled": false
   },
   "outputs": [
    {
     "name": "stdout",
     "output_type": "stream",
     "text": [
      "Liner Regression Mean CV MAE 17252.081871975217\n",
      "Random Forest Mean CV MAE 11691.352434424605\n",
      "Gradient Boosting Mean CV MAE 11388.319844965192\n"
     ]
    }
   ],
   "source": [
    "from sklearn.linear_model import LinearRegression\n",
    "from sklearn.ensemble import RandomForestRegressor, GradientBoostingRegressor\n",
    "from sklearn.model_selection import cross_val_score, GridSearchCV\n",
    "import numpy as np\n",
    "\n",
    "\n",
    "models = {\n",
    "    \"Liner Regression\": LinearRegression(),\n",
    "    \"Random Forest\": RandomForestRegressor(n_jobs=-1),\n",
    "    \"Gradient Boosting\": GradientBoostingRegressor()\n",
    "}\n",
    "\n",
    "for name, model in models.items():\n",
    "    pipeline = Pipeline(steps=[\n",
    "        ('preprocessor', preprocessor),\n",
    "        ('model', model)\n",
    "    ])\n",
    "    \n",
    "    pipeline.fit(X_train, y_train)\n",
    "    \n",
    "    cv_score = cross_val_score(pipeline, X_train, y_train, cv=5, scoring='neg_mean_absolute_error')\n",
    "    \n",
    "    print(f\"{name} Mean CV MAE { -np.mean(cv_score)}\" )"
   ]
  },
  {
   "cell_type": "markdown",
   "id": "2b786f56",
   "metadata": {},
   "source": [
    "`Our best model is Gradient Boosting with least MAE`"
   ]
  },
  {
   "cell_type": "markdown",
   "id": "4c29acf0",
   "metadata": {},
   "source": [
    "###  Hyper Parameter Chunning"
   ]
  },
  {
   "cell_type": "code",
   "execution_count": 67,
   "id": "d8f8349f",
   "metadata": {},
   "outputs": [
    {
     "data": {
      "text/html": [
       "<style>#sk-container-id-6 {color: black;}#sk-container-id-6 pre{padding: 0;}#sk-container-id-6 div.sk-toggleable {background-color: white;}#sk-container-id-6 label.sk-toggleable__label {cursor: pointer;display: block;width: 100%;margin-bottom: 0;padding: 0.3em;box-sizing: border-box;text-align: center;}#sk-container-id-6 label.sk-toggleable__label-arrow:before {content: \"▸\";float: left;margin-right: 0.25em;color: #696969;}#sk-container-id-6 label.sk-toggleable__label-arrow:hover:before {color: black;}#sk-container-id-6 div.sk-estimator:hover label.sk-toggleable__label-arrow:before {color: black;}#sk-container-id-6 div.sk-toggleable__content {max-height: 0;max-width: 0;overflow: hidden;text-align: left;background-color: #f0f8ff;}#sk-container-id-6 div.sk-toggleable__content pre {margin: 0.2em;color: black;border-radius: 0.25em;background-color: #f0f8ff;}#sk-container-id-6 input.sk-toggleable__control:checked~div.sk-toggleable__content {max-height: 200px;max-width: 100%;overflow: auto;}#sk-container-id-6 input.sk-toggleable__control:checked~label.sk-toggleable__label-arrow:before {content: \"▾\";}#sk-container-id-6 div.sk-estimator input.sk-toggleable__control:checked~label.sk-toggleable__label {background-color: #d4ebff;}#sk-container-id-6 div.sk-label input.sk-toggleable__control:checked~label.sk-toggleable__label {background-color: #d4ebff;}#sk-container-id-6 input.sk-hidden--visually {border: 0;clip: rect(1px 1px 1px 1px);clip: rect(1px, 1px, 1px, 1px);height: 1px;margin: -1px;overflow: hidden;padding: 0;position: absolute;width: 1px;}#sk-container-id-6 div.sk-estimator {font-family: monospace;background-color: #f0f8ff;border: 1px dotted black;border-radius: 0.25em;box-sizing: border-box;margin-bottom: 0.5em;}#sk-container-id-6 div.sk-estimator:hover {background-color: #d4ebff;}#sk-container-id-6 div.sk-parallel-item::after {content: \"\";width: 100%;border-bottom: 1px solid gray;flex-grow: 1;}#sk-container-id-6 div.sk-label:hover label.sk-toggleable__label {background-color: #d4ebff;}#sk-container-id-6 div.sk-serial::before {content: \"\";position: absolute;border-left: 1px solid gray;box-sizing: border-box;top: 0;bottom: 0;left: 50%;z-index: 0;}#sk-container-id-6 div.sk-serial {display: flex;flex-direction: column;align-items: center;background-color: white;padding-right: 0.2em;padding-left: 0.2em;position: relative;}#sk-container-id-6 div.sk-item {position: relative;z-index: 1;}#sk-container-id-6 div.sk-parallel {display: flex;align-items: stretch;justify-content: center;background-color: white;position: relative;}#sk-container-id-6 div.sk-item::before, #sk-container-id-6 div.sk-parallel-item::before {content: \"\";position: absolute;border-left: 1px solid gray;box-sizing: border-box;top: 0;bottom: 0;left: 50%;z-index: -1;}#sk-container-id-6 div.sk-parallel-item {display: flex;flex-direction: column;z-index: 1;position: relative;background-color: white;}#sk-container-id-6 div.sk-parallel-item:first-child::after {align-self: flex-end;width: 50%;}#sk-container-id-6 div.sk-parallel-item:last-child::after {align-self: flex-start;width: 50%;}#sk-container-id-6 div.sk-parallel-item:only-child::after {width: 0;}#sk-container-id-6 div.sk-dashed-wrapped {border: 1px dashed gray;margin: 0 0.4em 0.5em 0.4em;box-sizing: border-box;padding-bottom: 0.4em;background-color: white;}#sk-container-id-6 div.sk-label label {font-family: monospace;font-weight: bold;display: inline-block;line-height: 1.2em;}#sk-container-id-6 div.sk-label-container {text-align: center;}#sk-container-id-6 div.sk-container {/* jupyter's `normalize.less` sets `[hidden] { display: none; }` but bootstrap.min.css set `[hidden] { display: none !important; }` so we also need the `!important` here to be able to override the default hidden behavior on the sphinx rendered scikit-learn.org. See: https://github.com/scikit-learn/scikit-learn/issues/21755 */display: inline-block !important;position: relative;}#sk-container-id-6 div.sk-text-repr-fallback {display: none;}</style><div id=\"sk-container-id-6\" class=\"sk-top-container\"><div class=\"sk-text-repr-fallback\"><pre>GridSearchCV(cv=5,\n",
       "             estimator=Pipeline(steps=[(&#x27;preprocessor&#x27;,\n",
       "                                        ColumnTransformer(transformers=[(&#x27;numeric&#x27;,\n",
       "                                                                         Pipeline(steps=[(&#x27;imputer&#x27;,\n",
       "                                                                                          SimpleImputer()),\n",
       "                                                                                         (&#x27;scaler&#x27;,\n",
       "                                                                                          StandardScaler())]),\n",
       "                                                                         [&#x27;months_listed&#x27;,\n",
       "                                                                          &#x27;bedrooms&#x27;,\n",
       "                                                                          &#x27;area&#x27;]),\n",
       "                                                                        (&#x27;category&#x27;,\n",
       "                                                                         Pipeline(steps=[(&#x27;imputer&#x27;,\n",
       "                                                                                          SimpleImputer(strategy=&#x27;most_frequent&#x27;)),\n",
       "                                                                                         (&#x27;onehot&#x27;,\n",
       "                                                                                          OneHotEncoder(handle_unknown=&#x27;ignore&#x27;))]),\n",
       "                                                                         [&#x27;city&#x27;,\n",
       "                                                                          &#x27;house_type&#x27;])])),\n",
       "                                       (&#x27;model&#x27;, GradientBoostingRegressor())]),\n",
       "             n_jobs=-1,\n",
       "             param_grid={&#x27;model__learning_rate&#x27;: [0.01, 0.05, 0.1],\n",
       "                         &#x27;model__max_depth&#x27;: [3, 4, 5],\n",
       "                         &#x27;model__min_samples_leaf&#x27;: [1, 2, 4],\n",
       "                         &#x27;model__min_samples_split&#x27;: [2, 5, 10],\n",
       "                         &#x27;model__n_estimators&#x27;: [100, 200, 300],\n",
       "                         &#x27;model__subsample&#x27;: [0.6, 0.8, 1.0]},\n",
       "             scoring=&#x27;neg_mean_absolute_error&#x27;)</pre><b>In a Jupyter environment, please rerun this cell to show the HTML representation or trust the notebook. <br />On GitHub, the HTML representation is unable to render, please try loading this page with nbviewer.org.</b></div><div class=\"sk-container\" hidden><div class=\"sk-item sk-dashed-wrapped\"><div class=\"sk-label-container\"><div class=\"sk-label sk-toggleable\"><input class=\"sk-toggleable__control sk-hidden--visually\" id=\"sk-estimator-id-49\" type=\"checkbox\" ><label for=\"sk-estimator-id-49\" class=\"sk-toggleable__label sk-toggleable__label-arrow\">GridSearchCV</label><div class=\"sk-toggleable__content\"><pre>GridSearchCV(cv=5,\n",
       "             estimator=Pipeline(steps=[(&#x27;preprocessor&#x27;,\n",
       "                                        ColumnTransformer(transformers=[(&#x27;numeric&#x27;,\n",
       "                                                                         Pipeline(steps=[(&#x27;imputer&#x27;,\n",
       "                                                                                          SimpleImputer()),\n",
       "                                                                                         (&#x27;scaler&#x27;,\n",
       "                                                                                          StandardScaler())]),\n",
       "                                                                         [&#x27;months_listed&#x27;,\n",
       "                                                                          &#x27;bedrooms&#x27;,\n",
       "                                                                          &#x27;area&#x27;]),\n",
       "                                                                        (&#x27;category&#x27;,\n",
       "                                                                         Pipeline(steps=[(&#x27;imputer&#x27;,\n",
       "                                                                                          SimpleImputer(strategy=&#x27;most_frequent&#x27;)),\n",
       "                                                                                         (&#x27;onehot&#x27;,\n",
       "                                                                                          OneHotEncoder(handle_unknown=&#x27;ignore&#x27;))]),\n",
       "                                                                         [&#x27;city&#x27;,\n",
       "                                                                          &#x27;house_type&#x27;])])),\n",
       "                                       (&#x27;model&#x27;, GradientBoostingRegressor())]),\n",
       "             n_jobs=-1,\n",
       "             param_grid={&#x27;model__learning_rate&#x27;: [0.01, 0.05, 0.1],\n",
       "                         &#x27;model__max_depth&#x27;: [3, 4, 5],\n",
       "                         &#x27;model__min_samples_leaf&#x27;: [1, 2, 4],\n",
       "                         &#x27;model__min_samples_split&#x27;: [2, 5, 10],\n",
       "                         &#x27;model__n_estimators&#x27;: [100, 200, 300],\n",
       "                         &#x27;model__subsample&#x27;: [0.6, 0.8, 1.0]},\n",
       "             scoring=&#x27;neg_mean_absolute_error&#x27;)</pre></div></div></div><div class=\"sk-parallel\"><div class=\"sk-parallel-item\"><div class=\"sk-item\"><div class=\"sk-label-container\"><div class=\"sk-label sk-toggleable\"><input class=\"sk-toggleable__control sk-hidden--visually\" id=\"sk-estimator-id-50\" type=\"checkbox\" ><label for=\"sk-estimator-id-50\" class=\"sk-toggleable__label sk-toggleable__label-arrow\">estimator: Pipeline</label><div class=\"sk-toggleable__content\"><pre>Pipeline(steps=[(&#x27;preprocessor&#x27;,\n",
       "                 ColumnTransformer(transformers=[(&#x27;numeric&#x27;,\n",
       "                                                  Pipeline(steps=[(&#x27;imputer&#x27;,\n",
       "                                                                   SimpleImputer()),\n",
       "                                                                  (&#x27;scaler&#x27;,\n",
       "                                                                   StandardScaler())]),\n",
       "                                                  [&#x27;months_listed&#x27;, &#x27;bedrooms&#x27;,\n",
       "                                                   &#x27;area&#x27;]),\n",
       "                                                 (&#x27;category&#x27;,\n",
       "                                                  Pipeline(steps=[(&#x27;imputer&#x27;,\n",
       "                                                                   SimpleImputer(strategy=&#x27;most_frequent&#x27;)),\n",
       "                                                                  (&#x27;onehot&#x27;,\n",
       "                                                                   OneHotEncoder(handle_unknown=&#x27;ignore&#x27;))]),\n",
       "                                                  [&#x27;city&#x27;, &#x27;house_type&#x27;])])),\n",
       "                (&#x27;model&#x27;, GradientBoostingRegressor())])</pre></div></div></div><div class=\"sk-serial\"><div class=\"sk-item\"><div class=\"sk-serial\"><div class=\"sk-item sk-dashed-wrapped\"><div class=\"sk-label-container\"><div class=\"sk-label sk-toggleable\"><input class=\"sk-toggleable__control sk-hidden--visually\" id=\"sk-estimator-id-51\" type=\"checkbox\" ><label for=\"sk-estimator-id-51\" class=\"sk-toggleable__label sk-toggleable__label-arrow\">preprocessor: ColumnTransformer</label><div class=\"sk-toggleable__content\"><pre>ColumnTransformer(transformers=[(&#x27;numeric&#x27;,\n",
       "                                 Pipeline(steps=[(&#x27;imputer&#x27;, SimpleImputer()),\n",
       "                                                 (&#x27;scaler&#x27;, StandardScaler())]),\n",
       "                                 [&#x27;months_listed&#x27;, &#x27;bedrooms&#x27;, &#x27;area&#x27;]),\n",
       "                                (&#x27;category&#x27;,\n",
       "                                 Pipeline(steps=[(&#x27;imputer&#x27;,\n",
       "                                                  SimpleImputer(strategy=&#x27;most_frequent&#x27;)),\n",
       "                                                 (&#x27;onehot&#x27;,\n",
       "                                                  OneHotEncoder(handle_unknown=&#x27;ignore&#x27;))]),\n",
       "                                 [&#x27;city&#x27;, &#x27;house_type&#x27;])])</pre></div></div></div><div class=\"sk-parallel\"><div class=\"sk-parallel-item\"><div class=\"sk-item\"><div class=\"sk-label-container\"><div class=\"sk-label sk-toggleable\"><input class=\"sk-toggleable__control sk-hidden--visually\" id=\"sk-estimator-id-52\" type=\"checkbox\" ><label for=\"sk-estimator-id-52\" class=\"sk-toggleable__label sk-toggleable__label-arrow\">numeric</label><div class=\"sk-toggleable__content\"><pre>[&#x27;months_listed&#x27;, &#x27;bedrooms&#x27;, &#x27;area&#x27;]</pre></div></div></div><div class=\"sk-serial\"><div class=\"sk-item\"><div class=\"sk-serial\"><div class=\"sk-item\"><div class=\"sk-estimator sk-toggleable\"><input class=\"sk-toggleable__control sk-hidden--visually\" id=\"sk-estimator-id-53\" type=\"checkbox\" ><label for=\"sk-estimator-id-53\" class=\"sk-toggleable__label sk-toggleable__label-arrow\">SimpleImputer</label><div class=\"sk-toggleable__content\"><pre>SimpleImputer()</pre></div></div></div><div class=\"sk-item\"><div class=\"sk-estimator sk-toggleable\"><input class=\"sk-toggleable__control sk-hidden--visually\" id=\"sk-estimator-id-54\" type=\"checkbox\" ><label for=\"sk-estimator-id-54\" class=\"sk-toggleable__label sk-toggleable__label-arrow\">StandardScaler</label><div class=\"sk-toggleable__content\"><pre>StandardScaler()</pre></div></div></div></div></div></div></div></div><div class=\"sk-parallel-item\"><div class=\"sk-item\"><div class=\"sk-label-container\"><div class=\"sk-label sk-toggleable\"><input class=\"sk-toggleable__control sk-hidden--visually\" id=\"sk-estimator-id-55\" type=\"checkbox\" ><label for=\"sk-estimator-id-55\" class=\"sk-toggleable__label sk-toggleable__label-arrow\">category</label><div class=\"sk-toggleable__content\"><pre>[&#x27;city&#x27;, &#x27;house_type&#x27;]</pre></div></div></div><div class=\"sk-serial\"><div class=\"sk-item\"><div class=\"sk-serial\"><div class=\"sk-item\"><div class=\"sk-estimator sk-toggleable\"><input class=\"sk-toggleable__control sk-hidden--visually\" id=\"sk-estimator-id-56\" type=\"checkbox\" ><label for=\"sk-estimator-id-56\" class=\"sk-toggleable__label sk-toggleable__label-arrow\">SimpleImputer</label><div class=\"sk-toggleable__content\"><pre>SimpleImputer(strategy=&#x27;most_frequent&#x27;)</pre></div></div></div><div class=\"sk-item\"><div class=\"sk-estimator sk-toggleable\"><input class=\"sk-toggleable__control sk-hidden--visually\" id=\"sk-estimator-id-57\" type=\"checkbox\" ><label for=\"sk-estimator-id-57\" class=\"sk-toggleable__label sk-toggleable__label-arrow\">OneHotEncoder</label><div class=\"sk-toggleable__content\"><pre>OneHotEncoder(handle_unknown=&#x27;ignore&#x27;)</pre></div></div></div></div></div></div></div></div></div></div><div class=\"sk-item\"><div class=\"sk-estimator sk-toggleable\"><input class=\"sk-toggleable__control sk-hidden--visually\" id=\"sk-estimator-id-58\" type=\"checkbox\" ><label for=\"sk-estimator-id-58\" class=\"sk-toggleable__label sk-toggleable__label-arrow\">GradientBoostingRegressor</label><div class=\"sk-toggleable__content\"><pre>GradientBoostingRegressor()</pre></div></div></div></div></div></div></div></div></div></div></div></div>"
      ],
      "text/plain": [
       "GridSearchCV(cv=5,\n",
       "             estimator=Pipeline(steps=[('preprocessor',\n",
       "                                        ColumnTransformer(transformers=[('numeric',\n",
       "                                                                         Pipeline(steps=[('imputer',\n",
       "                                                                                          SimpleImputer()),\n",
       "                                                                                         ('scaler',\n",
       "                                                                                          StandardScaler())]),\n",
       "                                                                         ['months_listed',\n",
       "                                                                          'bedrooms',\n",
       "                                                                          'area']),\n",
       "                                                                        ('category',\n",
       "                                                                         Pipeline(steps=[('imputer',\n",
       "                                                                                          SimpleImputer(strategy='most_frequent')),\n",
       "                                                                                         ('onehot',\n",
       "                                                                                          OneHotEncoder(handle_unknown='ignore'))]),\n",
       "                                                                         ['city',\n",
       "                                                                          'house_type'])])),\n",
       "                                       ('model', GradientBoostingRegressor())]),\n",
       "             n_jobs=-1,\n",
       "             param_grid={'model__learning_rate': [0.01, 0.05, 0.1],\n",
       "                         'model__max_depth': [3, 4, 5],\n",
       "                         'model__min_samples_leaf': [1, 2, 4],\n",
       "                         'model__min_samples_split': [2, 5, 10],\n",
       "                         'model__n_estimators': [100, 200, 300],\n",
       "                         'model__subsample': [0.6, 0.8, 1.0]},\n",
       "             scoring='neg_mean_absolute_error')"
      ]
     },
     "execution_count": 67,
     "metadata": {},
     "output_type": "execute_result"
    }
   ],
   "source": [
    "best_model = Pipeline(steps=[\n",
    "    ('preprocessor', preprocessor),\n",
    "    ('model', GradientBoostingRegressor())\n",
    "])\n",
    "\n",
    "\n",
    "param_grid = {\n",
    "    'model__n_estimators': [100, 200, 300],\n",
    "    'model__learning_rate': [0.01, 0.05, 0.1],\n",
    "    'model__max_depth': [3, 4, 5],\n",
    "    'model__min_samples_split': [2, 5, 10],\n",
    "    'model__min_samples_leaf': [1, 2, 4],\n",
    "    'model__subsample': [0.6, 0.8, 1.0],\n",
    "   # Valid values for max_features\n",
    "}\n",
    "\n",
    "\n",
    "grid_search = GridSearchCV(estimator=best_model, param_grid=param_grid, cv=5, n_jobs=-1, scoring='neg_mean_absolute_error')\n",
    "\n",
    "grid_search.fit(X_train, y_train)\n",
    "\n"
   ]
  },
  {
   "cell_type": "code",
   "execution_count": 54,
   "id": "65d6be40",
   "metadata": {},
   "outputs": [],
   "source": [
    "best_model = grid_search.best_estimator_\n"
   ]
  },
  {
   "cell_type": "markdown",
   "id": "5e36f50c",
   "metadata": {},
   "source": [
    "## Evaluate Model Performance"
   ]
  },
  {
   "cell_type": "code",
   "execution_count": 57,
   "id": "e8e39fca",
   "metadata": {},
   "outputs": [
    {
     "data": {
      "text/plain": [
       "0.9807691738902673"
      ]
     },
     "execution_count": 57,
     "metadata": {},
     "output_type": "execute_result"
    }
   ],
   "source": [
    "import sklearn\n",
    "from sklearn.metrics import r2_score, mean_absolute_percentage_error\n",
    "y_pred = best_model.predict(X_test)\n",
    "r2 = r2_score(y_test,y_pred )\n",
    "mape = mean_absolute_percentage_error(y_test, y_pred)\n",
    "percentage_error = mape * 100\n",
    "percentage_error\n",
    "\n",
    "r2"
   ]
  },
  {
   "cell_type": "markdown",
   "id": "a407d4da",
   "metadata": {},
   "source": [
    "# Let's Deploy"
   ]
  },
  {
   "cell_type": "code",
   "execution_count": 60,
   "id": "3a2838a6",
   "metadata": {},
   "outputs": [],
   "source": [
    "import joblib\n",
    "\n",
    "joblib.dump(best_model, 'prediction_app/model.pkl')\n",
    "\n",
    "clean_data.to_csv('prediction_app/data.csv')"
   ]
  }
 ],
 "metadata": {
  "kernelspec": {
   "display_name": "Python 3 (ipykernel)",
   "language": "python",
   "name": "python3"
  },
  "language_info": {
   "codemirror_mode": {
    "name": "ipython",
    "version": 3
   },
   "file_extension": ".py",
   "mimetype": "text/x-python",
   "name": "python",
   "nbconvert_exporter": "python",
   "pygments_lexer": "ipython3",
   "version": "3.11.5"
  }
 },
 "nbformat": 4,
 "nbformat_minor": 5
}
